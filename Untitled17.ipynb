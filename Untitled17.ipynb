{
  "nbformat": 4,
  "nbformat_minor": 0,
  "metadata": {
    "colab": {
      "provenance": []
    },
    "kernelspec": {
      "name": "python3",
      "display_name": "Python 3"
    },
    "language_info": {
      "name": "python"
    }
  },
  "cells": [
    {
      "cell_type": "code",
      "execution_count": null,
      "metadata": {
        "id": "LrJMDCoVAPtL"
      },
      "outputs": [],
      "source": [
        "ef perdida_de_casa():\n",
        "    \"\"\"Simula la situación de perder la casa y tomar una decisión.\"\"\"\n",
        "\n",
        "    print(\"Haz perdido tu casa. Ya llega la noche. ¿Qué vas a hacer?\")\n",
        "    decision = input(\"Escribe 'llamar a mamá' para llamar a tu mamá, 'buscar refugio' para encontrar un lugar donde dormir, o 'quedarte en la calle': \")\n",
        "\n",
        "    if decision.lower() == \"llamar a mamá\":\n",
        "        print(\"Llamas a tu mamá. Ella te ofrece quedarte en su casa por la noche.\")\n",
        "    elif decision.lower() == \"buscar refugio\":\n",
        "        print(\"Decides buscar un refugio. Encuentras un lugar seguro donde pasar la noche.\")\n",
        "    elif decision.lower() == \"quedarte en la calle\":\n",
        "        print(\"Decides quedarte en la calle. La noche es fría y te sientes vulnerable.\")\n",
        "    else:\n",
        "        print(\"No has tomado una decisión válida. Debes actuar rápido.\")\n",
        "\n",
        "# Llama a la función para ejecutar el código\n",
        "perdida_de_casa()"
      ]
    }
  ]
}